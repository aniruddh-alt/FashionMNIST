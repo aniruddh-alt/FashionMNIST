{
  "nbformat": 4,
  "nbformat_minor": 0,
  "metadata": {
    "colab": {
      "provenance": [],
      "gpuType": "T4",
      "authorship_tag": "ABX9TyPNwm5aSuj5I/tlWBScsxt6",
      "include_colab_link": true
    },
    "kernelspec": {
      "name": "python3",
      "display_name": "Python 3"
    },
    "language_info": {
      "name": "python"
    },
    "accelerator": "GPU"
  },
  "cells": [
    {
      "cell_type": "markdown",
      "metadata": {
        "id": "view-in-github",
        "colab_type": "text"
      },
      "source": [
        "<a href=\"https://colab.research.google.com/github/aniruddh-alt/FashionMNIST/blob/main/FashionMNIST_PyTorch.ipynb\" target=\"_parent\"><img src=\"https://colab.research.google.com/assets/colab-badge.svg\" alt=\"Open In Colab\"/></a>"
      ]
    },
    {
      "cell_type": "code",
      "source": [
        "import torch\n",
        "import torch.nn as nn\n",
        "import torch.optim as optim\n",
        "import torchvision\n",
        "import torchvision.transforms as transforms\n",
        "import torchvision.datasets as datasets\n",
        "import matplotlib.pyplot as plt\n",
        "import numpy as np\n",
        "# Convolution Neural Network for Fashion MNIST"
      ],
      "metadata": {
        "id": "dk-lhDoolqGy"
      },
      "execution_count": 57,
      "outputs": []
    },
    {
      "cell_type": "code",
      "source": [
        "device = 'cuda' if torch.cuda.is_available() else 'cpu'\n",
        "device"
      ],
      "metadata": {
        "colab": {
          "base_uri": "https://localhost:8080/",
          "height": 35
        },
        "id": "LeJldQOtmfGj",
        "outputId": "79263ed8-4372-42a9-b2e7-025898ecb532"
      },
      "execution_count": 58,
      "outputs": [
        {
          "output_type": "execute_result",
          "data": {
            "text/plain": [
              "'cuda'"
            ],
            "application/vnd.google.colaboratory.intrinsic+json": {
              "type": "string"
            }
          },
          "metadata": {},
          "execution_count": 58
        }
      ]
    },
    {
      "cell_type": "code",
      "source": [
        "class FashionCNN(nn.Module):\n",
        "    def __init__(self):\n",
        "      super(FashionCNN, self).__init__()\n",
        "      self.conv1 = nn.Conv2d(in_channels=1, out_channels=8, kernel_size=3, padding=1)\n",
        "      self.pool = nn.MaxPool2d(kernel_size=2, stride=2)\n",
        "      self.conv2 = nn.Conv2d(in_channels=8, out_channels=16, kernel_size=3, padding=1)\n",
        "      self.fc1 = nn.Linear(in_features = 16*7*7, out_features=128)\n",
        "      self.fc2 = nn.Linear(in_features=128, out_features=10)\n",
        "      self.relu = nn.ReLU()\n",
        "\n",
        "    def forward(self, x):\n",
        "      x = self.relu(self.conv1(x))\n",
        "      x = self.pool(x)\n",
        "      x = self.relu(self.conv2(x))\n",
        "      x = self.pool(x)\n",
        "      x = x.view(-1, 16*7*7)\n",
        "      x = self.relu(self.fc1(x))\n",
        "      x = self.fc2(x)\n",
        "      return x\n",
        "\n",
        "\n",
        "\n"
      ],
      "metadata": {
        "id": "rSFrTkhSl2fw"
      },
      "execution_count": 59,
      "outputs": []
    },
    {
      "cell_type": "code",
      "source": [
        "from torch.utils.data import DataLoader\n",
        "\n",
        "transform = transforms.Compose([\n",
        "    transforms.ToTensor(),\n",
        "    transforms.Normalize((0.5,), (0.5,))\n",
        "])\n",
        "\n",
        "\n",
        "train = datasets.FashionMNIST(root='./data', train=True, download=True, transform=transform)\n",
        "test = datasets.FashionMNIST(root='./data', train=False, download=True, transform=transform)\n",
        "\n",
        "train_dataloader = DataLoader(train, batch_size=64, shuffle=True)\n",
        "test_dataloader = DataLoader(test, batch_size=64, shuffle=False)\n"
      ],
      "metadata": {
        "id": "L4k-5TnR2E9S"
      },
      "execution_count": 60,
      "outputs": []
    },
    {
      "cell_type": "code",
      "source": [
        "f = FashionCNN()\n",
        "f.to(device)"
      ],
      "metadata": {
        "colab": {
          "base_uri": "https://localhost:8080/"
        },
        "id": "URD8T56k2Uqo",
        "outputId": "ded56872-48ba-47b4-ba08-6c1ec04681aa"
      },
      "execution_count": 61,
      "outputs": [
        {
          "output_type": "execute_result",
          "data": {
            "text/plain": [
              "FashionCNN(\n",
              "  (conv1): Conv2d(1, 8, kernel_size=(3, 3), stride=(1, 1), padding=(1, 1))\n",
              "  (pool): MaxPool2d(kernel_size=2, stride=2, padding=0, dilation=1, ceil_mode=False)\n",
              "  (conv2): Conv2d(8, 16, kernel_size=(3, 3), stride=(1, 1), padding=(1, 1))\n",
              "  (fc1): Linear(in_features=784, out_features=128, bias=True)\n",
              "  (fc2): Linear(in_features=128, out_features=10, bias=True)\n",
              "  (relu): ReLU()\n",
              ")"
            ]
          },
          "metadata": {},
          "execution_count": 61
        }
      ]
    },
    {
      "cell_type": "code",
      "source": [
        "criterion = nn.CrossEntropyLoss()\n",
        "optimizer = torch.optim.AdamW(f.parameters(), lr=0.001, weight_decay=1e-5)"
      ],
      "metadata": {
        "id": "46Ssd3sp2_m5"
      },
      "execution_count": 62,
      "outputs": []
    },
    {
      "cell_type": "code",
      "source": [
        "from tqdm import tqdm\n",
        "\n",
        "config = {\n",
        "    'epochs': 100,\n",
        "    'batch_size': 64,\n",
        "    'learning_rate': 0.001\n",
        "}\n",
        "\n",
        "import numpy as np\n",
        "\n",
        "class EarlyStopping:\n",
        "    def __init__(self, patience=5, verbose=False, delta=0):\n",
        "        self.patience = patience\n",
        "        self.verbose = verbose\n",
        "        self.counter = 0\n",
        "        self.best_score = None\n",
        "        self.early_stop = False\n",
        "        self.delta = delta\n",
        "\n",
        "    def __call__(self, val_loss, model):\n",
        "        # The score is negative because we want to minimize the validation loss\n",
        "        score = -val_loss\n",
        "\n",
        "        # If we don't have a best score yet, set it to the current score\n",
        "        if self.best_score is None:\n",
        "            self.best_score = score\n",
        "            if self.verbose:\n",
        "                print(f\"Initial best validation loss: {val_loss}\")\n",
        "        # If the validation loss hasn't improved sufficiently, increment the counter\n",
        "        elif score < self.best_score + self.delta:\n",
        "            self.counter += 1\n",
        "            if self.verbose:\n",
        "                print(f'EarlyStopping counter: {self.counter} out of {self.patience}')\n",
        "            # If we've reached the patience limit, stop training\n",
        "            if self.counter >= self.patience:\n",
        "                self.early_stop = True\n",
        "                if self.verbose:\n",
        "                    print(\"Early stopping triggered!\")\n",
        "        else:\n",
        "            # If the validation loss has improved, reset the counter and update the best score\n",
        "            self.best_score = score\n",
        "            self.counter = 0\n",
        "            if self.verbose:\n",
        "                print(f\"Validation loss improved to {val_loss}\")\n"
      ],
      "metadata": {
        "id": "i7r8SUIH3J2L"
      },
      "execution_count": 63,
      "outputs": []
    },
    {
      "cell_type": "code",
      "source": [
        "from tqdm import tqdm\n",
        "import torch\n",
        "\n",
        "# Initialize early stopping\n",
        "early_stopping = EarlyStopping(patience=5, verbose=True)\n",
        "\n",
        "for epoch in tqdm(range(config['epochs']), desc=\"Training Epochs\"):\n",
        "    train_loss = 0.0\n",
        "    train_acc = 0.0\n",
        "    test_loss = 0.0\n",
        "    test_acc = 0.0\n",
        "    f.train()\n",
        "\n",
        "    # Training phase\n",
        "    for batch_idx, (data, target) in enumerate(train_dataloader):\n",
        "        data, target = data.to(device), target.to(device)\n",
        "        optimizer.zero_grad()\n",
        "        output = f(data)\n",
        "        loss = criterion(output, target)\n",
        "        loss.backward()\n",
        "        optimizer.step()\n",
        "\n",
        "        train_loss += loss.item()\n",
        "        _, pred = torch.max(output, dim=1)\n",
        "        correct = pred.eq(target.view_as(pred)).sum().item()\n",
        "        train_acc += correct\n",
        "\n",
        "    # Average training loss and accuracy\n",
        "    train_loss /= len(train_dataloader.dataset)\n",
        "    train_acc /= len(train_dataloader.dataset)\n",
        "\n",
        "    # Validation phase\n",
        "    f.eval()  # Set the model to evaluation mode\n",
        "    with torch.no_grad():\n",
        "        for batch_idx, (data, target) in enumerate(test_dataloader):\n",
        "            data, target = data.to(device), target.to(device)\n",
        "            output = f(data)\n",
        "            loss = criterion(output, target)\n",
        "            test_loss += loss.item()\n",
        "            _, pred = torch.max(output, dim=1)\n",
        "            correct = pred.eq(target.view_as(pred)).sum().item()\n",
        "            test_acc += correct\n",
        "\n",
        "        # Average validation loss and accuracy\n",
        "        test_loss /= len(test_dataloader.dataset)\n",
        "        test_acc /= len(test_dataloader.dataset)\n",
        "\n",
        "    # Call early stopping\n",
        "    early_stopping(test_loss, f)\n",
        "    if early_stopping.early_stop:\n",
        "        print(\"Early stopping\")\n",
        "        break\n",
        "\n",
        "    # Print statistics\n",
        "    print(f'Epoch: {epoch+1}/{config[\"epochs\"]}, Train Loss: {train_loss:.4f}, Train Acc: {train_acc:.4f}, Test Loss: {test_loss:.4f}, Test Acc: {test_acc:.4f}')\n"
      ],
      "metadata": {
        "colab": {
          "base_uri": "https://localhost:8080/"
        },
        "id": "TAVRd38D39tz",
        "outputId": "f2e58bde-31fb-4406-97df-b16635a6b31b"
      },
      "execution_count": 64,
      "outputs": [
        {
          "output_type": "stream",
          "name": "stderr",
          "text": [
            "Training Epochs:   1%|          | 1/100 [00:17<29:37, 17.95s/it]"
          ]
        },
        {
          "output_type": "stream",
          "name": "stdout",
          "text": [
            "Initial best validation loss: 0.006098875223100185\n",
            "Epoch: 1/100, Train Loss: 0.0082, Train Acc: 0.8126, Test Loss: 0.0061, Test Acc: 0.8600\n"
          ]
        },
        {
          "output_type": "stream",
          "name": "stderr",
          "text": [
            "\rTraining Epochs:   2%|▏         | 2/100 [00:35<28:30, 17.45s/it]"
          ]
        },
        {
          "output_type": "stream",
          "name": "stdout",
          "text": [
            "Validation loss improved to 0.005486618293821812\n",
            "Epoch: 2/100, Train Loss: 0.0053, Train Acc: 0.8766, Test Loss: 0.0055, Test Acc: 0.8740\n"
          ]
        },
        {
          "output_type": "stream",
          "name": "stderr",
          "text": [
            "\rTraining Epochs:   3%|▎         | 3/100 [00:52<27:58, 17.30s/it]"
          ]
        },
        {
          "output_type": "stream",
          "name": "stdout",
          "text": [
            "Validation loss improved to 0.0049267925217747685\n",
            "Epoch: 3/100, Train Loss: 0.0047, Train Acc: 0.8921, Test Loss: 0.0049, Test Acc: 0.8836\n"
          ]
        },
        {
          "output_type": "stream",
          "name": "stderr",
          "text": [
            "\rTraining Epochs:   4%|▍         | 4/100 [01:09<27:59, 17.49s/it]"
          ]
        },
        {
          "output_type": "stream",
          "name": "stdout",
          "text": [
            "Validation loss improved to 0.0047779718972742555\n",
            "Epoch: 4/100, Train Loss: 0.0042, Train Acc: 0.9002, Test Loss: 0.0048, Test Acc: 0.8879\n"
          ]
        },
        {
          "output_type": "stream",
          "name": "stderr",
          "text": [
            "\rTraining Epochs:   5%|▌         | 5/100 [01:26<27:20, 17.27s/it]"
          ]
        },
        {
          "output_type": "stream",
          "name": "stdout",
          "text": [
            "Validation loss improved to 0.0045900544449687004\n",
            "Epoch: 5/100, Train Loss: 0.0039, Train Acc: 0.9073, Test Loss: 0.0046, Test Acc: 0.8934\n"
          ]
        },
        {
          "output_type": "stream",
          "name": "stderr",
          "text": [
            "\rTraining Epochs:   6%|▌         | 6/100 [01:44<27:09, 17.34s/it]"
          ]
        },
        {
          "output_type": "stream",
          "name": "stdout",
          "text": [
            "Validation loss improved to 0.004484066519141197\n",
            "Epoch: 6/100, Train Loss: 0.0037, Train Acc: 0.9133, Test Loss: 0.0045, Test Acc: 0.8967\n"
          ]
        },
        {
          "output_type": "stream",
          "name": "stderr",
          "text": [
            "\rTraining Epochs:   7%|▋         | 7/100 [02:01<27:00, 17.42s/it]"
          ]
        },
        {
          "output_type": "stream",
          "name": "stdout",
          "text": [
            "Validation loss improved to 0.004137445063889027\n",
            "Epoch: 7/100, Train Loss: 0.0035, Train Acc: 0.9182, Test Loss: 0.0041, Test Acc: 0.9062\n"
          ]
        },
        {
          "output_type": "stream",
          "name": "stderr",
          "text": [
            "\rTraining Epochs:   8%|▊         | 8/100 [02:18<26:26, 17.24s/it]"
          ]
        },
        {
          "output_type": "stream",
          "name": "stdout",
          "text": [
            "EarlyStopping counter: 1 out of 5\n",
            "Epoch: 8/100, Train Loss: 0.0032, Train Acc: 0.9227, Test Loss: 0.0043, Test Acc: 0.9045\n"
          ]
        },
        {
          "output_type": "stream",
          "name": "stderr",
          "text": [
            "\rTraining Epochs:   9%|▉         | 9/100 [02:36<26:19, 17.35s/it]"
          ]
        },
        {
          "output_type": "stream",
          "name": "stdout",
          "text": [
            "EarlyStopping counter: 2 out of 5\n",
            "Epoch: 9/100, Train Loss: 0.0030, Train Acc: 0.9271, Test Loss: 0.0042, Test Acc: 0.9062\n"
          ]
        },
        {
          "output_type": "stream",
          "name": "stderr",
          "text": [
            "\rTraining Epochs:  10%|█         | 10/100 [02:53<25:48, 17.21s/it]"
          ]
        },
        {
          "output_type": "stream",
          "name": "stdout",
          "text": [
            "EarlyStopping counter: 3 out of 5\n",
            "Epoch: 10/100, Train Loss: 0.0029, Train Acc: 0.9314, Test Loss: 0.0043, Test Acc: 0.9033\n"
          ]
        },
        {
          "output_type": "stream",
          "name": "stderr",
          "text": [
            "\rTraining Epochs:  11%|█         | 11/100 [03:09<25:18, 17.06s/it]"
          ]
        },
        {
          "output_type": "stream",
          "name": "stdout",
          "text": [
            "EarlyStopping counter: 4 out of 5\n",
            "Epoch: 11/100, Train Loss: 0.0027, Train Acc: 0.9343, Test Loss: 0.0042, Test Acc: 0.9061\n"
          ]
        },
        {
          "output_type": "stream",
          "name": "stderr",
          "text": [
            "\rTraining Epochs:  11%|█         | 11/100 [03:27<27:59, 18.87s/it]"
          ]
        },
        {
          "output_type": "stream",
          "name": "stdout",
          "text": [
            "EarlyStopping counter: 5 out of 5\n",
            "Early stopping triggered!\n",
            "Early stopping\n"
          ]
        },
        {
          "output_type": "stream",
          "name": "stderr",
          "text": [
            "\n"
          ]
        }
      ]
    },
    {
      "cell_type": "code",
      "source": [
        "from sklearn.metrics import classification_report\n",
        "import torch\n",
        "\n",
        "# Set the model to evaluation mode\n",
        "f.eval()\n",
        "\n",
        "test_loss = 0.0\n",
        "test_acc = 0.0\n",
        "y_true = []\n",
        "y_pred = []\n",
        "\n",
        "with torch.no_grad():\n",
        "    for batch_idx, (data, target) in enumerate(test_dataloader):\n",
        "        data, target = data.to(device), target.to(device)\n",
        "        output = f(data)\n",
        "\n",
        "        # Calculate the loss\n",
        "        loss = criterion(output, target)\n",
        "        test_loss += loss.item()\n",
        "\n",
        "        # Get the predictions\n",
        "        _, pred = torch.max(output, dim=1)\n",
        "\n",
        "        # Store the true labels and predictions\n",
        "        y_true.extend(target.cpu().numpy())\n",
        "        y_pred.extend(pred.cpu().numpy())\n",
        "\n",
        "        # Calculate accuracy\n",
        "        correct = pred.eq(target.view_as(pred)).sum().item()\n",
        "        test_acc += correct\n",
        "\n",
        "# Average loss and accuracy\n",
        "test_loss /= len(test_dataloader.dataset)\n",
        "test_acc /= len(test_dataloader.dataset)\n",
        "\n",
        "# Generate classification report\n",
        "report = classification_report(y_true, y_pred)\n",
        "print(report)\n",
        "\n",
        "# Optionally, you can print the final test loss and accuracy\n",
        "print(f\"Test Loss: {test_loss:.4f}\")\n",
        "print(f\"Test Accuracy: {test_acc:.4f}\")\n"
      ],
      "metadata": {
        "colab": {
          "base_uri": "https://localhost:8080/"
        },
        "id": "tV_s2RKc7Hio",
        "outputId": "ec4b7364-a5a7-4329-9aa0-60f7d53b439c"
      },
      "execution_count": 65,
      "outputs": [
        {
          "output_type": "stream",
          "name": "stdout",
          "text": [
            "              precision    recall  f1-score   support\n",
            "\n",
            "           0       0.81      0.91      0.86      1000\n",
            "           1       1.00      0.97      0.99      1000\n",
            "           2       0.87      0.87      0.87      1000\n",
            "           3       0.91      0.91      0.91      1000\n",
            "           4       0.76      0.92      0.83      1000\n",
            "           5       0.97      0.99      0.98      1000\n",
            "           6       0.83      0.58      0.68      1000\n",
            "           7       0.97      0.96      0.96      1000\n",
            "           8       0.98      0.98      0.98      1000\n",
            "           9       0.97      0.97      0.97      1000\n",
            "\n",
            "    accuracy                           0.91     10000\n",
            "   macro avg       0.91      0.91      0.90     10000\n",
            "weighted avg       0.91      0.91      0.90     10000\n",
            "\n",
            "Test Loss: 0.0045\n",
            "Test Accuracy: 0.9054\n"
          ]
        }
      ]
    },
    {
      "cell_type": "code",
      "source": [
        "test_samples = [test[i][0] for i in range(5)]\n",
        "test_labels = [test[i][1] for i in range(5)]\n",
        "\n",
        "fig, axes = plt.subplots(1, 5, figsize=(15, 3))\n",
        "for i in range(5):\n",
        "    axes[i].imshow(test_samples[i].squeeze(), cmap='gray')\n",
        "    axes[i].set_title(f\"Label: {test_labels[i]}\")\n",
        "    axes[i].axis('off')\n",
        "plt.show()\n"
      ],
      "metadata": {
        "colab": {
          "base_uri": "https://localhost:8080/",
          "height": 259
        },
        "id": "n51wnlESBvyy",
        "outputId": "365dc380-2413-4576-f558-dbca6394ecda"
      },
      "execution_count": 66,
      "outputs": [
        {
          "output_type": "display_data",
          "data": {
            "text/plain": [
              "<Figure size 1500x300 with 5 Axes>"
            ],
            "image/png": "[encoded data removed]"
          },
          "metadata": {}
        }
      ]
    },
    {
      "cell_type": "code",
      "source": [
        "test_samples = torch.stack(test_samples).to(device)\n",
        "with torch.no_grad():\n",
        "    output = f(test_samples)\n",
        "    _, pred = torch.max(output, dim=1)\n",
        "\n",
        "    for i in range(5):\n",
        "        print(f\"Predicted label: {pred[i].item()}\")"
      ],
      "metadata": {
        "colab": {
          "base_uri": "https://localhost:8080/"
        },
        "id": "VoaIEtGbCY3R",
        "outputId": "67573d38-9a4a-4373-9b1b-ebf056c73288"
      },
      "execution_count": 67,
      "outputs": [
        {
          "output_type": "stream",
          "name": "stdout",
          "text": [
            "Predicted label: 9\n",
            "Predicted label: 2\n",
            "Predicted label: 1\n",
            "Predicted label: 1\n",
            "Predicted label: 6\n"
          ]
        }
      ]
    },
    {
      "cell_type": "code",
      "source": [],
      "metadata": {
        "id": "sYhrnRhbE7mW"
      },
      "execution_count": null,
      "outputs": []
    }
  ]
}